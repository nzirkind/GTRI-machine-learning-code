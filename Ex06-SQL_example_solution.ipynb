{
 "cells": [
  {
   "cell_type": "markdown",
   "metadata": {},
   "source": [
    "# SQL Data munging example\n",
    "\n",
    "In this exercise, we will experiment with data in a sqlite database using pandas data queries.\n",
    "\n",
    "## Slide example\n",
    "\n",
    "Start by running the command from the slides.  The following 2 cells setup the database."
   ]
  },
  {
   "cell_type": "code",
   "execution_count": null,
   "metadata": {
    "ExecuteTime": {
     "end_time": "2018-08-01T02:21:01.708905Z",
     "start_time": "2018-07-31T22:21:01.164411-04:00"
    }
   },
   "outputs": [],
   "source": [
    "!rm new.db\n",
    "!sqlite3 new.db \"create table customer \\\n",
    "(cid numeric, \\\n",
    "cust_name char(20), \\\n",
    "address varchar(256), \\\n",
    "primary key (cid));\"\n",
    "\n",
    "!sqlite3 new.db \"create table product \\\n",
    "(pid numeric, \\\n",
    "prod_name char(20), \\\n",
    "price numeric, \\\n",
    "primary key (pid));\"\n",
    "\n",
    "!sqlite3 new.db \"create table order_n \\\n",
    "(oid numeric, \\\n",
    "pid numeric references product, \\\n",
    "cid numeric references customer, \\\n",
    "quantity numeric, \\\n",
    "Primary key (oid));\""
   ]
  },
  {
   "cell_type": "code",
   "execution_count": null,
   "metadata": {
    "ExecuteTime": {
     "end_time": "2018-08-01T02:21:02.668486Z",
     "start_time": "2018-07-31T22:21:01.711953-04:00"
    }
   },
   "outputs": [],
   "source": [
    "!sqlite3 new.db 'insert into customer values (1,\"Joe Klein\",\"USA\");'\n",
    "!sqlite3 new.db 'insert into customer values (2,\"Rob Smith\",\"CAN\");'\n",
    "!sqlite3 new.db 'insert into product values (1,\"Pencil\",1.23);'\n",
    "!sqlite3 new.db 'insert into product values (2,\"Pen\",0.67);'\n",
    "!sqlite3 new.db 'insert into product values (3,\"Marker\",1.03);'\n",
    "!sqlite3 new.db 'insert into order_n values (1,2,1,13);'\n",
    "!sqlite3 new.db 'insert into order_n values (2,3,2,45);'\n"
   ]
  },
  {
   "cell_type": "markdown",
   "metadata": {},
   "source": [
    "## Experiments\n",
    "\n",
    "In in the cell below, experiment with the commands from the slides."
   ]
  },
  {
   "cell_type": "code",
   "execution_count": null,
   "metadata": {
    "ExecuteTime": {
     "end_time": "2018-08-01T02:21:02.675535Z",
     "start_time": "2018-07-31T22:21:02.672209-04:00"
    }
   },
   "outputs": [],
   "source": [
    "# !sqlite3 new.db 'select...'"
   ]
  },
  {
   "cell_type": "markdown",
   "metadata": {},
   "source": [
    "## Bank Data\n",
    "\n",
    "Now we are going to experiment with more analytical data.\n",
    "\n",
    "### Download data\n",
    "\n",
    "```\n",
    "wget http://www.fdic.gov/bank/individual/failed/banklist.csv\n",
    "```\n",
    "\n",
    "### Import into database\n",
    "\n",
    "#### From command line\n",
    "```\n",
    "sqlite3 banks.db\n",
    "```\n",
    "\n",
    "#### Inside SQL terminal\n",
    "\n",
    "```\n",
    ".mode csv\n",
    ".import banklist.csv bank\n",
    ".schema bank\n",
    "select * from bank limit 10;\n",
    "```"
   ]
  },
  {
   "cell_type": "code",
   "execution_count": null,
   "metadata": {
    "ExecuteTime": {
     "end_time": "2018-08-01T02:21:03.554268Z",
     "start_time": "2018-07-31T22:21:02.678768-04:00"
    },
    "scrolled": true
   },
   "outputs": [],
   "source": [
    "!wget http://www.fdic.gov/bank/individual/failed/banklist.csv\n",
    "!sqlite3 banks.db \".mode csv\" \".import banklist.csv bank\" \n",
    "!sqlite3 banks.db \".schema bank\" \n",
    "# !sqlite3 banks.db \"select ..."
   ]
  },
  {
   "cell_type": "code",
   "execution_count": null,
   "metadata": {
    "ExecuteTime": {
     "end_time": "2018-08-01T02:21:03.972720Z",
     "start_time": "2018-07-31T22:21:03.557408-04:00"
    }
   },
   "outputs": [],
   "source": [
    "%matplotlib inline\n",
    "import matplotlib.pyplot as plt\n",
    "import pandas as pd\n",
    "import sqlite3"
   ]
  },
  {
   "cell_type": "markdown",
   "metadata": {},
   "source": [
    "## Db connection in python\n",
    "\n",
    "Read through the API doc at https://docs.python.org/2/library/sqlite3.html and use that to:\n",
    "\n",
    "1. List 10 banks\n",
    "2. List all Chicago Banks\n",
    "3. List all Wyoming Banks"
   ]
  },
  {
   "cell_type": "code",
   "execution_count": null,
   "metadata": {
    "ExecuteTime": {
     "end_time": "2018-08-01T02:21:03.977222Z",
     "start_time": "2018-07-31T22:21:03.974490-04:00"
    }
   },
   "outputs": [],
   "source": [
    "# conn = sqlite3.connect..."
   ]
  },
  {
   "cell_type": "markdown",
   "metadata": {},
   "source": [
    "## List 20 banks"
   ]
  },
  {
   "cell_type": "code",
   "execution_count": null,
   "metadata": {
    "ExecuteTime": {
     "end_time": "2018-08-01T02:21:03.998857Z",
     "start_time": "2018-07-31T22:21:03.994591-04:00"
    }
   },
   "outputs": [],
   "source": [
    "# results = ...\n",
    "print(results)"
   ]
  },
  {
   "cell_type": "markdown",
   "metadata": {},
   "source": [
    "## List Chicago Banks"
   ]
  },
  {
   "cell_type": "code",
   "execution_count": null,
   "metadata": {
    "ExecuteTime": {
     "end_time": "2018-08-01T02:21:03.998857Z",
     "start_time": "2018-07-31T22:21:03.994591-04:00"
    }
   },
   "outputs": [],
   "source": [
    "# results = ...\n",
    "print(results)"
   ]
  },
  {
   "cell_type": "markdown",
   "metadata": {},
   "source": [
    "## List Wyoming Banks"
   ]
  },
  {
   "cell_type": "code",
   "execution_count": null,
   "metadata": {
    "ExecuteTime": {
     "end_time": "2018-08-01T02:21:03.998857Z",
     "start_time": "2018-07-31T22:21:03.994591-04:00"
    }
   },
   "outputs": [],
   "source": [
    "# results = ...\n",
    "print(results)"
   ]
  },
  {
   "cell_type": "markdown",
   "metadata": {},
   "source": [
    "## Use Pandas API to pull in Table data\n",
    "\n",
    "\n",
    "Read API docs at https://pandas.pydata.org/pandas-docs/stable/generated/pandas.read_sql.html.\n",
    "\n",
    "Use `pd.read_sql` to pull in Bank data as a DataFrame"
   ]
  },
  {
   "cell_type": "code",
   "execution_count": null,
   "metadata": {
    "ExecuteTime": {
     "end_time": "2018-08-01T02:21:04.081215Z",
     "start_time": "2018-07-31T22:21:04.001230-04:00"
    },
    "scrolled": true
   },
   "outputs": [],
   "source": [
    "# df = pd.read_sql_query(...\n",
    "df.head()"
   ]
  },
  {
   "cell_type": "markdown",
   "metadata": {
    "collapsed": true
   },
   "source": [
    "## Using Closing Date column to make datetime index\n",
    "\n",
    "Use https://pandas.pydata.org/pandas-docs/stable/generated/pandas.to_datetime.html and https://pandas.pydata.org/pandas-docs/version/0.22/generated/pandas.DatetimeIndex.html.  You may have to \"coerce\" any errors."
   ]
  },
  {
   "cell_type": "code",
   "execution_count": null,
   "metadata": {
    "ExecuteTime": {
     "end_time": "2018-08-01T02:21:04.224847Z",
     "start_time": "2018-07-31T22:21:04.083457-04:00"
    }
   },
   "outputs": [],
   "source": [
    "# df.index = pd.DatetimeIndex(\n",
    "#     pd.to_datetime(...\n",
    "df.head()"
   ]
  },
  {
   "cell_type": "markdown",
   "metadata": {},
   "source": [
    "## Plot Monthly Bank Failures\n",
    "\n",
    "See https://pandas.pydata.org/pandas-docs/stable/generated/pandas.Grouper.html for guidance."
   ]
  },
  {
   "cell_type": "code",
   "execution_count": null,
   "metadata": {
    "ExecuteTime": {
     "end_time": "2018-08-01T02:21:04.429590Z",
     "start_time": "2018-07-31T22:21:04.226672-04:00"
    }
   },
   "outputs": [],
   "source": [
    "# df.groupby(..."
   ]
  },
  {
   "cell_type": "markdown",
   "metadata": {},
   "source": [
    "## Joining data\n",
    "\n",
    "Let's say we want to analyze the bank failure with respect to the state population. For instance, we might want to understand the failure rate per person in a state.  To do this we need to \"join\" the failure data with a table of state populations.\n",
    "\n",
    "We can use the data from https://en.wikipedia.org/wiki/List_of_U.S._states_and_territories_by_population and https://www.infoplease.com/state-abbreviations-and-state-postal-codes to create a flat table with bank closures and population.\n",
    "\n",
    "\n",
    "\n"
   ]
  },
  {
   "cell_type": "code",
   "execution_count": null,
   "metadata": {
    "ExecuteTime": {
     "end_time": "2018-08-01T02:21:07.143344Z",
     "start_time": "2018-07-31T22:21:04.431843-04:00"
    },
    "scrolled": true
   },
   "outputs": [],
   "source": [
    "df_state_codes = pd.read_html(\n",
    "    'https://www.infoplease.com/state-abbreviations-and-state-postal-codes')[0]\n",
    "df_state_codes\n",
    "\n",
    "df_state_pop = pd.read_html(\n",
    "    'https://en.wikipedia.org/wiki/List_of_U.S._states_and_territories_by_population',\n",
    "    header=0)[0]\n",
    "df_state_pop = df_state_pop[['Population estimate, July 1, 2017[4]', 'State or territory']].rename(columns={\n",
    "    'Population estimate, July 1, 2017[4]': 'population', 'State or territory':'State/District'\n",
    "})\n",
    "df_state_pop['population'] = pd.to_numeric(df_state_pop['population'],errors='coerce')\n",
    "df_state_pop['population'].dtype"
   ]
  },
  {
   "cell_type": "code",
   "execution_count": null,
   "metadata": {
    "ExecuteTime": {
     "end_time": "2018-08-01T02:21:07.158298Z",
     "start_time": "2018-07-31T22:21:07.145281-04:00"
    },
    "scrolled": true
   },
   "outputs": [],
   "source": [
    "df_pop_codes = df_state_codes.merge(df_state_pop,on='State/District')\n",
    "df_pop_codes.head()"
   ]
  },
  {
   "cell_type": "markdown",
   "metadata": {},
   "source": [
    "## Use a similar process to join with bank df"
   ]
  },
  {
   "cell_type": "code",
   "execution_count": null,
   "metadata": {
    "ExecuteTime": {
     "end_time": "2018-08-01T02:21:07.319703Z",
     "start_time": "2018-07-31T22:21:07.160434-04:00"
    }
   },
   "outputs": [],
   "source": [
    "# df_banks_pop = df_pop_codes.merge(...\n",
    "# df_banks_pop.index = pd.DatetimeIndex(pd.to_datetime(...\n",
    "df_banks_pop.head()"
   ]
  },
  {
   "cell_type": "markdown",
   "metadata": {},
   "source": [
    "## Group by year and state and compute the failures per 1M people per year"
   ]
  },
  {
   "cell_type": "code",
   "execution_count": null,
   "metadata": {
    "ExecuteTime": {
     "end_time": "2018-08-01T02:21:07.373370Z",
     "start_time": "2018-07-31T22:21:07.322586-04:00"
    }
   },
   "outputs": [],
   "source": [
    "# annual = df_banks_pop.groupby(...).agg({'population':'mean', 'Bank Name':len})\n",
    "\n",
    "annual['fail_per_cap'] = (annual['Bank Name']/annual['population'])*1000000\n",
    "\n",
    "annual.reset_index(inplace=True)\n",
    "annual.head()"
   ]
  },
  {
   "cell_type": "markdown",
   "metadata": {},
   "source": [
    "# Use seaborn to plot all states by year\n",
    "\n",
    "See https://seaborn.pydata.org/generated/seaborn.FacetGrid.html"
   ]
  },
  {
   "cell_type": "code",
   "execution_count": null,
   "metadata": {
    "ExecuteTime": {
     "end_time": "2018-08-01T02:21:09.070025Z",
     "start_time": "2018-07-31T22:21:07.375876-04:00"
    }
   },
   "outputs": [],
   "source": [
    "import seaborn as sns\n",
    "\n",
    "# g = sns.FacetGrid(...\n",
    "# g.map(...\n"
   ]
  },
  {
   "cell_type": "markdown",
   "metadata": {},
   "source": [
    "## Bonus repeat join using sql\n",
    "\n",
    "1. Create join tables as csv\n",
    "2. Load to sqlite\n",
    "3. Join using sqlite\n",
    "4. Extract back to Pandas"
   ]
  },
  {
   "cell_type": "code",
   "execution_count": null,
   "metadata": {},
   "outputs": [],
   "source": []
  }
 ],
 "metadata": {
  "kernelspec": {
   "display_name": "Python 3",
   "language": "python",
   "name": "python3"
  },
  "language_info": {
   "codemirror_mode": {
    "name": "ipython",
    "version": 3
   },
   "file_extension": ".py",
   "mimetype": "text/x-python",
   "name": "python",
   "nbconvert_exporter": "python",
   "pygments_lexer": "ipython3",
   "version": "3.6.6"
  },
  "latex_envs": {
   "LaTeX_envs_menu_present": true,
   "autocomplete": true,
   "bibliofile": "biblio.bib",
   "cite_by": "apalike",
   "current_citInitial": 1,
   "eqLabelWithNumbers": true,
   "eqNumInitial": 1,
   "hotkeys": {
    "equation": "Ctrl-E",
    "itemize": "Ctrl-I"
   },
   "labels_anchors": false,
   "latex_user_defs": false,
   "report_style_numbering": false,
   "user_envs_cfg": false
  }
 },
 "nbformat": 4,
 "nbformat_minor": 2
}
