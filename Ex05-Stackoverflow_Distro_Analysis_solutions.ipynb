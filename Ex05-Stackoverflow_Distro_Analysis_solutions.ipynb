{
 "cells": [
  {
   "cell_type": "markdown",
   "metadata": {},
   "source": [
    "## Stack Overflow Analysis\n",
    "\n",
    "We seek to answer the question posed in https://math.meta.stackexchange.com/q/21259/384342.\n",
    "\n",
    "### Extract probability mass function of user scores\n",
    "\n",
    "http://data.stackexchange.com/math/query/567390/number-of-users-with-reputation-n\n",
    "\n",
    "### Pull that data into a pandas DF\n"
   ]
  },
  {
   "cell_type": "code",
   "execution_count": null,
   "metadata": {
    "ExecuteTime": {
     "end_time": "2018-08-01T12:51:30.062093Z",
     "start_time": "2018-08-01T08:51:28.348281-04:00"
    }
   },
   "outputs": [],
   "source": [
    "import pandas as pd\n",
    "import numpy as np\n",
    "import matplotlib.pyplot as plt\n",
    "import statsmodels.api as sm\n",
    "%matplotlib inline\n"
   ]
  },
  {
   "cell_type": "code",
   "execution_count": null,
   "metadata": {
    "ExecuteTime": {
     "end_time": "2018-08-01T12:51:32.394896Z",
     "start_time": "2018-08-01T08:51:30.063963-04:00"
    }
   },
   "outputs": [],
   "source": [
    "df = pd.read_csv(\n",
    "    \"http://data.stackexchange.com/math/csv/715124\",\n",
    "    names=['Reputation', 'UserCount'],\n",
    "    dtype=float,\n",
    "    skiprows=1)\n",
    "df.head()"
   ]
  },
  {
   "cell_type": "markdown",
   "metadata": {},
   "source": [
    "## Plot Results\n",
    "\n",
    "Use `plt.loglog`"
   ]
  },
  {
   "cell_type": "code",
   "execution_count": null,
   "metadata": {
    "ExecuteTime": {
     "end_time": "2018-08-01T12:51:32.983963Z",
     "start_time": "2018-08-01T08:51:32.397366-04:00"
    }
   },
   "outputs": [],
   "source": [
    "plt.loglog(df.Reputation, df.UserCount, 'o')"
   ]
  },
  {
   "cell_type": "markdown",
   "metadata": {},
   "source": [
    "## Bin Scores\n",
    "\n",
    "To find out if we have a power law we need to see if the log-log distribution function is linear.\n",
    "If it is sub linear the tail is less heavy than a power law.\n",
    "\n",
    "To do this, we need to bin the scores using the `pd.cut` function."
   ]
  },
  {
   "cell_type": "code",
   "execution_count": null,
   "metadata": {
    "ExecuteTime": {
     "end_time": "2018-08-01T12:51:33.066149Z",
     "start_time": "2018-08-01T08:51:32.986109-04:00"
    }
   },
   "outputs": [],
   "source": [
    "df['user_proportion'] = df.UserCount/sum(df.UserCount)\n",
    "\n",
    "\n",
    "cut_points = np.power(10,np.arange(0,8,.1))\n",
    "bins = pd.cut(df.Reputation,cut_points,right=False)\n",
    "df2 = df.groupby(bins).user_proportion.sum().reset_index()\n",
    "\n",
    "\n",
    "df2['cut_points'] = cut_points[:-1]\n",
    "df2.dropna(inplace=True)\n",
    "df2['log_reputation'] = np.log10(df2.cut_points)\n",
    "df2['log_user_proportion'] = np.log10(df2.user_proportion)\n",
    "\n",
    "df2 = df2.replace([np.inf, -np.inf], np.nan).dropna()\n",
    "df2.head()"
   ]
  },
  {
   "cell_type": "code",
   "execution_count": null,
   "metadata": {
    "ExecuteTime": {
     "end_time": "2018-08-01T12:51:33.183298Z",
     "start_time": "2018-08-01T08:51:33.068372-04:00"
    }
   },
   "outputs": [],
   "source": [
    "\n",
    "plt.plot(df2.log_reputation, df2.log_user_proportion, 'mo')"
   ]
  },
  {
   "cell_type": "markdown",
   "metadata": {},
   "source": [
    "## Fit a line\n",
    "\n",
    "Use https://docs.scipy.org/doc/numpy/reference/generated/numpy.polyfit.html\n"
   ]
  },
  {
   "cell_type": "code",
   "execution_count": null,
   "metadata": {
    "ExecuteTime": {
     "end_time": "2018-08-01T12:51:33.361796Z",
     "start_time": "2018-08-01T08:51:33.185250-04:00"
    }
   },
   "outputs": [],
   "source": [
    "poly_coeffs = np.polyfit(df2.log_reputation, df2.log_user_proportion, 1)\n",
    "poly_1 = np.poly1d(poly_coeffs)\n",
    "x_vals = np.arange(0, 6, .1)\n",
    "plt.plot(x_vals, poly_1(x_vals), '--')\n",
    "plt.plot(df2.log_reputation, df2.log_user_proportion, 'mo')\n",
    "\n",
    "# fit a quadratic\n",
    "poly_coeffs = np.polyfit(df2.log_reputation, df2.log_user_proportion, 2)\n",
    "poly_2 = np.poly1d(poly_coeffs)\n",
    "plt.plot(x_vals, poly_2(x_vals), 'g--')"
   ]
  },
  {
   "cell_type": "markdown",
   "metadata": {},
   "source": [
    "## Repeat with all of SO\n",
    "\n",
    "https://data.stackexchange.com/stackoverflow/csv/715082\n"
   ]
  },
  {
   "cell_type": "code",
   "execution_count": null,
   "metadata": {},
   "outputs": [],
   "source": []
  },
  {
   "cell_type": "code",
   "execution_count": null,
   "metadata": {},
   "outputs": [],
   "source": []
  },
  {
   "cell_type": "code",
   "execution_count": null,
   "metadata": {},
   "outputs": [],
   "source": []
  },
  {
   "cell_type": "markdown",
   "metadata": {},
   "source": [
    "## Putting it all together\n",
    "\n",
    "See discussion at http://rjbaxley.com/posts/2016/11/08/Stack_Exchange_Reputation_Power_Law.html"
   ]
  },
  {
   "cell_type": "code",
   "execution_count": null,
   "metadata": {
    "ExecuteTime": {
     "end_time": "2018-08-01T12:51:36.864293Z",
     "start_time": "2018-08-01T08:51:33.364289-04:00"
    }
   },
   "outputs": [],
   "source": [
    "import pandas as pd\n",
    "import numpy as np\n",
    "import matplotlib.pyplot as plt\n",
    "import statsmodels.api as sm\n",
    "%matplotlib inline\n",
    "\n",
    "def plot_hist(df,alpha,c,label, ax=None, limits = [-1,7,-8,1], trends=False):\n",
    "\n",
    "    ax = df.plot(x='log_reputation',\n",
    "                 y=['log_user_proportion'],\n",
    "                 kind='scatter',\n",
    "                 alpha=alpha,\n",
    "                 ax=ax,\n",
    "                 color=c,edgecolor=c,\n",
    "                label=label,\n",
    "                figsize=(15.0, 10.0))\n",
    "    if trends:\n",
    "        X = df.log_reputation\n",
    "        X = sm.add_constant(X)\n",
    "        model = sm.OLS(df.log_user_proportion, X)\n",
    "        results = model.fit()\n",
    "        df['linear_trend'] = results.fittedvalues\n",
    "        plt.text(df.log_reputation.min(),df.linear_trend.max(),\n",
    "                 '{log_reputation:10.4f}x +{const:10.4f}'.format(**results.params)+\n",
    "                '\\nr**2 = {}'.format(results.rsquared))\n",
    "\n",
    "        X = np.column_stack((df.log_reputation, df.log_reputation**2))\n",
    "        X = sm.add_constant(X)\n",
    "        model = sm.OLS(df.log_user_proportion, X)\n",
    "        results = model.fit()\n",
    "        df['quad_trend'] = results.fittedvalues\n",
    "\n",
    "        plt.text(3,-2,\n",
    "                 '{x2:10.4f}x**2 +{x1:10.4f}x +{const:10.4f}'.format(**results.params)+\n",
    "                '\\nr**2 = {}'.format(results.rsquared))\n",
    "        ax = df.plot(x='log_reputation',\n",
    "                     y=['linear_trend','quad_trend'],\n",
    "                     kind='line',\n",
    "                     alpha=1,\n",
    "                     ax=ax)\n",
    "    plt.axis(limits)\n",
    "    plt.grid(True)\n",
    "    return ax\n",
    "\n",
    "\n",
    "def process_df(url):\n",
    "    df = pd.read_csv(url,names=['Reputation','UserCount'],dtype=float,skiprows=1)\n",
    "    df['user_proportion'] = df.UserCount/sum(df.UserCount)\n",
    "    df['log_user_proportion'] = np.log10(df.user_proportion)\n",
    "    df['log_reputation'] = np.log10(df.Reputation)\n",
    "    ax = plot_hist(df,.1,c='b',label='un-binned')\n",
    "\n",
    "\n",
    "    cut_points = np.power(10,np.arange(0,8,.1))\n",
    "    bins = pd.cut(df.Reputation,cut_points,right=False)\n",
    "    df = df.groupby(bins).user_proportion.sum().reset_index()\n",
    "    df['cut_points'] = cut_points[:-1]\n",
    "    df.dropna(inplace=True)\n",
    "    df['log_reputation'] = np.log10(df.cut_points)\n",
    "    df['log_user_proportion'] = np.log10(df.user_proportion)\n",
    "    \n",
    "    df = df.replace([np.inf, -np.inf], np.nan).dropna()\n",
    "    plot_hist(df,1,c='m',ax=ax,label='binned',trends=True)\n",
    "    plt.legend()\n",
    "    return df\n",
    "\n",
    "df = process_df('http://data.stackexchange.com/math/csv/715124')\n",
    "plt.title('Mathematics')\n",
    "df2 = process_df('https://data.stackexchange.com/stackoverflow/csv/715082')\n",
    "plt.title('Stack Overflow')"
   ]
  },
  {
   "cell_type": "code",
   "execution_count": null,
   "metadata": {},
   "outputs": [],
   "source": []
  }
 ],
 "metadata": {
  "kernelspec": {
   "display_name": "Python 3",
   "language": "python",
   "name": "python3"
  },
  "language_info": {
   "codemirror_mode": {
    "name": "ipython",
    "version": 3
   },
   "file_extension": ".py",
   "mimetype": "text/x-python",
   "name": "python",
   "nbconvert_exporter": "python",
   "pygments_lexer": "ipython3",
   "version": "3.6.6"
  },
  "latex_envs": {
   "LaTeX_envs_menu_present": true,
   "autocomplete": true,
   "bibliofile": "biblio.bib",
   "cite_by": "apalike",
   "current_citInitial": 1,
   "eqLabelWithNumbers": true,
   "eqNumInitial": 1,
   "hotkeys": {
    "equation": "Ctrl-E",
    "itemize": "Ctrl-I"
   },
   "labels_anchors": false,
   "latex_user_defs": false,
   "report_style_numbering": false,
   "user_envs_cfg": false
  }
 },
 "nbformat": 4,
 "nbformat_minor": 2
}
