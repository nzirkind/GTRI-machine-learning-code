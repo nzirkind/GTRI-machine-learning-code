{
 "cells": [
  {
   "cell_type": "markdown",
   "metadata": {},
   "source": [
    "## Dice Simulaiton\n",
    "\n",
    "In this excercise, we want to simulate the outcome of rolling dice. We will walk through several levels of building up funcitonality.  \n",
    "\n",
    "### Single Die\n",
    "Let's create a function that will return a random value between one and six that emulates the outcome of the roll of one die.  Python has a random number package called `random`."
   ]
  },
  {
   "cell_type": "code",
   "execution_count": null,
   "metadata": {
    "collapsed": true
   },
   "outputs": [],
   "source": [
    "import random\n",
    "def single_die():\n",
    "    \"\"\"Outcome of a single die roll\"\"\"\n",
    "    return random.randint(1,6)"
   ]
  },
  {
   "cell_type": "markdown",
   "metadata": {},
   "source": [
    "### Check\n",
    "To check our function, let's call it 50 times and print the output.  We should see numbers between 1 and 6."
   ]
  },
  {
   "cell_type": "code",
   "execution_count": null,
   "metadata": {
    "collapsed": false
   },
   "outputs": [],
   "source": [
    "for _ in range(50):\n",
    "    print(single_die(),end=' ')"
   ]
  },
  {
   "cell_type": "markdown",
   "metadata": {},
   "source": [
    "### Multiple Dice Roll\n",
    "\n",
    "Now let's make a function that returns the sum of N 6-sided dice being rolled."
   ]
  },
  {
   "cell_type": "code",
   "execution_count": null,
   "metadata": {
    "collapsed": true
   },
   "outputs": [],
   "source": [
    "def dice_roll(dice_count):\n",
    "    \"\"\"Outcome of a rolling dice_count dice\n",
    "    \n",
    "    Args:\n",
    "        dice_count (int): number of dice to roll\n",
    "    \n",
    "    Returns:\n",
    "        int: sum of face values of dice\n",
    "        \n",
    "    \"\"\"\n",
    "    out = 0\n",
    "    for _ in range(dice_count):\n",
    "        out += single_die()\n",
    "    return out\n"
   ]
  },
  {
   "cell_type": "markdown",
   "metadata": {},
   "source": [
    "### Check\n",
    "\n",
    "Let's perform the same check with 100 values and make sure we see values in the range of 2 to 12."
   ]
  },
  {
   "cell_type": "code",
   "execution_count": null,
   "metadata": {
    "collapsed": false
   },
   "outputs": [],
   "source": [
    "for _ in range(100):\n",
    "    print(dice_roll(2), end=' ')"
   ]
  },
  {
   "cell_type": "markdown",
   "metadata": {},
   "source": [
    "### Capture the outcome of multiple rolls\n",
    "\n",
    "Write a function that will return a list of values for many dice rolls"
   ]
  },
  {
   "cell_type": "code",
   "execution_count": null,
   "metadata": {
    "collapsed": false
   },
   "outputs": [],
   "source": [
    "def dice_rolls(dice_count, rolls_count):\n",
    "    \"\"\"Return list of many dice rolls\n",
    "    \n",
    "    Args:\n",
    "        dice_count (int): number of dice to roll\n",
    "        rolls_count (int): number of rolls to do\n",
    "        \n",
    "    Returns:\n",
    "        list: list of dice roll values.\n",
    "        \n",
    "    \"\"\"\n",
    "    out = []\n",
    "    for _ in range(rolls_count):\n",
    "        out.append(dice_roll(dice_count))\n",
    "    return out\n",
    "\n",
    "print(dice_rolls(2,100))"
   ]
  },
  {
   "cell_type": "markdown",
   "metadata": {},
   "source": [
    "### Plot Result\n",
    "\n",
    "Make a function that plots the histogram of the dice values."
   ]
  },
  {
   "cell_type": "code",
   "execution_count": null,
   "metadata": {
    "collapsed": false
   },
   "outputs": [],
   "source": [
    "import pylab as plt\n",
    "%matplotlib inline\n",
    "\n",
    "plt.rcParams['figure.figsize'] = (10, 4)\n",
    "\n",
    "def dice_histogram(dice_count, rolls_count, bins):\n",
    "    \"\"\"Plots outcome of many dice rolls\n",
    "    \n",
    "    Args:\n",
    "        dice_count (int): number of dice to roll\n",
    "        rolls_count (int): number of rolls to do\n",
    "        bins (int): number of histogram bins\n",
    "        \n",
    "    \"\"\"\n",
    "    plt.hist(dice_rolls(dice_count, rolls_count),bins)\n",
    "    plt.show()\n",
    "    \n",
    "dice_histogram(2, 10000, 200)"
   ]
  },
  {
   "cell_type": "markdown",
   "metadata": {},
   "source": [
    "#### Aside\n",
    "\n",
    "The outputs follow a binomial distribution.  As the number of dice increase, the binomial distribution approaches a Gaussian distribution due to the Central Limit Theorem (CLT).  Try making a histogram with 100 dice. The resulting plot is a \"Bell Curve\" that represents the Gaussian distribution."
   ]
  },
  {
   "cell_type": "code",
   "execution_count": null,
   "metadata": {
    "collapsed": false
   },
   "outputs": [],
   "source": [
    "dice_histogram(100, 10000, 200)"
   ]
  },
  {
   "cell_type": "markdown",
   "metadata": {},
   "source": [
    "#### Slow?\n",
    "\n",
    "That seemed slow.  How do we time it? "
   ]
  },
  {
   "cell_type": "code",
   "execution_count": null,
   "metadata": {
    "collapsed": false
   },
   "outputs": [],
   "source": [
    "import time\n",
    "start = time.time()\n",
    "\n",
    "dice_histogram(100, 10000, 200)\n",
    "\n",
    "print(time.time()-start, 'seconds')\n"
   ]
  },
  {
   "cell_type": "markdown",
   "metadata": {},
   "source": [
    "Seems like a long time... Can we make it faster? Yes!\n",
    "\n",
    "### Optimize w/ Numpy\n",
    "\n",
    "Using lots of loops in python is not usually the most efficient way to accomplish numeric tasks.  Instead, we should use numpy.  With numpy we can \"vectorize\" operations and under the hood numpy is doing the computation with C code that has a python interface.  We don't have to worry about anything under the hood.\n",
    "\n",
    "#### 2-D Array of Values\n",
    "Start by checking out [numpy's randint function](https://docs.scipy.org/doc/numpy/reference/generated/numpy.random.randint.html).  Let's rewrite `dice_rolls` using numpy functions and no loops.  \n",
    "\n",
    "To do this, we are going to use `np.random.randint` to create a 2-D array of random dice rolls.  That array will have `dice_count` rows and `rolls_count` columns--ie, the size of the array is `(dice_count, rolls_count)`."
   ]
  },
  {
   "cell_type": "code",
   "execution_count": null,
   "metadata": {
    "collapsed": false
   },
   "outputs": [],
   "source": [
    "import numpy as np\n",
    "np.random.randint(1,7,(2,10))"
   ]
  },
  {
   "cell_type": "markdown",
   "metadata": {},
   "source": [
    "The result is a `np.array` object with is like a list, but better.  The most notable difference is that we can to element-wise math operations on numpy arrays easily.\n",
    "\n",
    "#### Column sum\n",
    "\n",
    "To find the roll values, we need to sum up the 2-D array by each column."
   ]
  },
  {
   "cell_type": "code",
   "execution_count": null,
   "metadata": {
    "collapsed": false
   },
   "outputs": [],
   "source": [
    "np.sum(np.random.randint(1,7,(2,10)),axis=0)"
   ]
  },
  {
   "cell_type": "markdown",
   "metadata": {},
   "source": [
    "### Let's use this knowledge to rewrite `dice_rolls`\n",
    "\n"
   ]
  },
  {
   "cell_type": "code",
   "execution_count": null,
   "metadata": {
    "collapsed": false
   },
   "outputs": [],
   "source": [
    "def dice_rolls_np(dice_count, rolls_count):\n",
    "    \"\"\"Return list of many dice rolls\n",
    "    \n",
    "    Args:\n",
    "        dice_count (int): number of dice to roll\n",
    "        rolls_count (int): number of rolls to do\n",
    "        \n",
    "    Returns:\n",
    "        np.array: list of dice roll values.\n",
    "        \n",
    "    \"\"\"\n",
    "    \n",
    "    return np.sum(\n",
    "        np.random.randint(1,7,(dice_count,rolls_count)),\n",
    "        axis=0)\n",
    "\n",
    "\n",
    "print(dice_rolls(2,100))"
   ]
  },
  {
   "cell_type": "markdown",
   "metadata": {},
   "source": [
    "#### Histogram and timeit"
   ]
  },
  {
   "cell_type": "code",
   "execution_count": null,
   "metadata": {
    "collapsed": false
   },
   "outputs": [],
   "source": [
    "def dice_histogram_np(dice_count, rolls_count, bins):\n",
    "    \"\"\"Plots outcome of many dice rolls\n",
    "    \n",
    "    Args:\n",
    "        dice_count (int): number of dice to roll\n",
    "        rolls_count (int): number of rolls to do\n",
    "        bins (int): number of histogram bins\n",
    "        \n",
    "    \"\"\"\n",
    "    plt.hist(dice_rolls_np(dice_count, rolls_count),bins)\n",
    "    plt.show()\n",
    "    \n",
    "start = time.time()\n",
    "\n",
    "dice_histogram_np(100, 10000, 200)\n",
    "\n",
    "print(time.time()-start, 'seconds')"
   ]
  },
  {
   "cell_type": "markdown",
   "metadata": {},
   "source": [
    "That is way faster!\n",
    "\n",
    "### `%timeit`\n",
    "\n",
    "Jupyter has a magic function to time function execution. Let's try that:"
   ]
  },
  {
   "cell_type": "code",
   "execution_count": null,
   "metadata": {
    "collapsed": false
   },
   "outputs": [],
   "source": [
    "%timeit dice_rolls_np(100, 1000)"
   ]
  },
  {
   "cell_type": "code",
   "execution_count": null,
   "metadata": {
    "collapsed": false
   },
   "outputs": [],
   "source": [
    "%timeit dice_rolls(100, 1000)"
   ]
  },
  {
   "cell_type": "markdown",
   "metadata": {},
   "source": [
    "The improvement in the core function call was two orders of magnitude, but when we timed it initially, we were also waiting for the plot to render which consumed the majority of the time."
   ]
  },
  {
   "cell_type": "markdown",
   "metadata": {},
   "source": [
    "## Risk Game Simulation\n",
    "\n",
    "In risk two players roll dice in each battle to determine how many armies are lost on each side. \n",
    "\n",
    "Here are the rules:\n",
    "\n",
    "- The attacking player rolls three dice\n",
    "- The defending player rolls two dice\n",
    "- The defending player wins dice ties\n",
    "- The dice are matched in sorted order\n",
    "- The outcome is a measure of the net increase in armies for the the attacking player with values of -2, -1, 0, 1, 2\n",
    "\n",
    "Let's make a function that simulates the outcome of one Risk battle and outputs the net score.  \n",
    "\n",
    "The functions we created in the first part of this tutorial are not useful for this task."
   ]
  },
  {
   "cell_type": "code",
   "execution_count": null,
   "metadata": {
    "collapsed": false
   },
   "outputs": [],
   "source": [
    "def risk_battle():\n",
    "    \"\"\"Risk battle simulation\"\"\"\n",
    "    \n",
    "    # get array of three dice values\n",
    "    attacking_dice = np.random.randint(1,7,3)\n",
    "    \n",
    "    # get array of two dice values\n",
    "    defending_dice = np.random.randint(1,7,2)\n",
    "    \n",
    "    # sort both sets and take top two values\n",
    "    attacking_dice_sorted = np.sort(attacking_dice)[::-1]\n",
    "    defending_dice_sorted = np.sort(defending_dice)[::-1]\n",
    "    \n",
    "    # are the attacking values greater?\n",
    "    attack_wins = attacking_dice_sorted[:2] > defending_dice_sorted[:2]\n",
    "    \n",
    "    # convert boolean values to -1, +1\n",
    "    attack_wins_pm = attack_wins*2 - 1\n",
    "    \n",
    "    # sum up these outcomes\n",
    "    return np.sum(attack_wins_pm)\n",
    "    \n",
    "for _ in range(50):\n",
    "    print(risk_battle(), end=' ')"
   ]
  },
  {
   "cell_type": "markdown",
   "metadata": {},
   "source": [
    "### Histogram\n",
    "\n",
    "Let's plot the histogram.  Instead of making a function, let's just use list comprehension to make a list and then plot."
   ]
  },
  {
   "cell_type": "code",
   "execution_count": null,
   "metadata": {
    "collapsed": false
   },
   "outputs": [],
   "source": [
    "outcomes = [risk_battle() for _ in range(10000)]\n",
    "plt.hist(outcomes)\n",
    "plt.show()"
   ]
  },
  {
   "cell_type": "markdown",
   "metadata": {},
   "source": [
    "### Expected Margin\n",
    "\n",
    "If we run many simulations, how many armies do we expect the attacker to be ahead by on average?"
   ]
  },
  {
   "cell_type": "code",
   "execution_count": null,
   "metadata": {
    "collapsed": false
   },
   "outputs": [],
   "source": [
    "np.mean([risk_battle() for _ in range(10000)])"
   ]
  }
 ],
 "metadata": {
  "kernelspec": {
   "display_name": "Python 3",
   "language": "python",
   "name": "python3"
  },
  "language_info": {
   "codemirror_mode": {
    "name": "ipython",
    "version": 3
   },
   "file_extension": ".py",
   "mimetype": "text/x-python",
   "name": "python",
   "nbconvert_exporter": "python",
   "pygments_lexer": "ipython3",
   "version": "3.6.0"
  }
 },
 "nbformat": 4,
 "nbformat_minor": 2
}
